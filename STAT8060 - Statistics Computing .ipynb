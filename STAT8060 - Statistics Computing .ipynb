{
 "cells": [
  {
   "cell_type": "markdown",
   "metadata": {},
   "source": [
    "# Chapter 1: Introduction\n"
   ]
  },
  {
   "cell_type": "markdown",
   "metadata": {},
   "source": [
    "## Bisection algorithm\n",
    "\n",
    "1. Define an interval $[a, b]$ such that the result falls in the interval \n",
    "2. Divide into two subintervals $[a,(a+b)/2]$ and $[(a+b)/2,b]$\n",
    "3. Choose the subinterval contaning the result and repeat 2 until error is less than a predefined threshold"
   ]
  },
  {
   "cell_type": "code",
   "execution_count": 1,
   "metadata": {
    "scrolled": true
   },
   "outputs": [
    {
     "data": {
      "text/html": [
       "<dl>\n",
       "\t<dt>$value</dt>\n",
       "\t\t<dd>1.4140625</dd>\n",
       "\t<dt>$error</dt>\n",
       "\t\t<dd>0.00042724609375</dd>\n",
       "\t<dt>$nit</dt>\n",
       "\t\t<dd>8</dd>\n",
       "</dl>\n"
      ],
      "text/latex": [
       "\\begin{description}\n",
       "\\item[\\$value] 1.4140625\n",
       "\\item[\\$error] 0.00042724609375\n",
       "\\item[\\$nit] 8\n",
       "\\end{description}\n"
      ],
      "text/markdown": [
       "$value\n",
       ":   1.4140625\n",
       "$error\n",
       ":   0.00042724609375\n",
       "$nit\n",
       ":   8\n",
       "\n",
       "\n"
      ],
      "text/plain": [
       "$value\n",
       "[1] 1.414062\n",
       "\n",
       "$error\n",
       "[1] 0.0004272461\n",
       "\n",
       "$nit\n",
       "[1] 8\n"
      ]
     },
     "metadata": {},
     "output_type": "display_data"
    }
   ],
   "source": [
    "my_sqrt = function(x, Error){\n",
    "    a = 0\n",
    "    if(x < 1){\n",
    "        b = 1\n",
    "    }else b = x\n",
    "\n",
    "    middle = (a+b)/2\n",
    "    error = abs(middle^2-x)\n",
    "\n",
    "    nit = 0\n",
    "    while(error > Error){\n",
    "        nit = nit + 1\n",
    "        middle = (a+b)/2\n",
    "        if (middle^2 > x){\n",
    "            b = middle \n",
    "        }else a = middle \n",
    "\n",
    "        error = abs(b-a)\n",
    "    }\n",
    "    \n",
    "    result = list(value=as.numeric, error=as.numeric, nit=as.numeric)\n",
    "    result$value = middle\n",
    "    result$error = abs(middle^2-x)\n",
    "    result$nit = nit\n",
    "    result\n",
    "}\n",
    "\n",
    "my_sqrt(x=2, Error=10e-3)"
   ]
  },
  {
   "cell_type": "markdown",
   "metadata": {},
   "source": [
    "## Newton-Raphson algorithm\n",
    "\n",
    "The derivative of a differentiable function $f(x)$ at $x^*$ can be approximated by the ratio, i.e., \n",
    "$$f'(x^*) \\approx \\frac{f(x)-f(x^*)}{x-x^*}$$\n",
    "\n",
    "which is equivalent to\n",
    "$$x^* = x - \\frac{f(x)-f(x^*)}{f'(x)}$$\n",
    "\n",
    "This recursive equation can be used find a solution to an equation $f(x)=a$,  \n",
    "$$x_{n+1} = x_{n} - \\frac{f(x_n)-a}{f'(x_n)}$$\n",
    "\n",
    "For example, define $f(x)=x^2$ and $\\sqrt{2}$ is the solution to the equation $f(x)=2$. Thus, the recursive function is \n",
    "$$x_{n+1} = x_{n} - \\frac{x_n^2-a}{2x_n}$$\n",
    "\n"
   ]
  },
  {
   "cell_type": "code",
   "execution_count": 3,
   "metadata": {},
   "outputs": [
    {
     "data": {
      "text/html": [
       "<dl>\n",
       "\t<dt>$value</dt>\n",
       "\t\t<dd>1.41421356237469</dd>\n",
       "\t<dt>$error</dt>\n",
       "\t\t<dd>4.51061410444709e-12</dd>\n",
       "\t<dt>$nit</dt>\n",
       "\t\t<dd>4</dd>\n",
       "</dl>\n"
      ],
      "text/latex": [
       "\\begin{description}\n",
       "\\item[\\$value] 1.41421356237469\n",
       "\\item[\\$error] 4.51061410444709e-12\n",
       "\\item[\\$nit] 4\n",
       "\\end{description}\n"
      ],
      "text/markdown": [
       "$value\n",
       ":   1.41421356237469\n",
       "$error\n",
       ":   4.51061410444709e-12\n",
       "$nit\n",
       ":   4\n",
       "\n",
       "\n"
      ],
      "text/plain": [
       "$value\n",
       "[1] 1.414214\n",
       "\n",
       "$error\n",
       "[1] 4.510614e-12\n",
       "\n",
       "$nit\n",
       "[1] 4\n"
      ]
     },
     "metadata": {},
     "output_type": "display_data"
    }
   ],
   "source": [
    "my_sqrt1 = function(x, Error){  \n",
    "    old = x/2\n",
    "    error = Error+1\n",
    "    nit = 0\n",
    "    while(error > Error){\n",
    "        nit = nit+1\n",
    "        new = old - (old^2-x)/(2*old)\n",
    "        error = abs(new-old)\n",
    "        old = new\n",
    "    }\n",
    "    result = list(value=as.numeric, error=as.numeric, nit=as.numeric)\n",
    "    result$value = new\n",
    "    result$error = abs(new^2-x)\n",
    "    result$nit = nit\n",
    "    result  \n",
    "}\n",
    "my_sqrt1(2,Error=0.001)\n"
   ]
  },
  {
   "cell_type": "markdown",
   "metadata": {},
   "source": [
    "## Infinite sequences for calculating $\\pi$ and $e$"
   ]
  },
  {
   "cell_type": "code",
   "execution_count": null,
   "metadata": {},
   "outputs": [],
   "source": []
  }
 ],
 "metadata": {
  "kernelspec": {
   "display_name": "R",
   "language": "R",
   "name": "ir"
  },
  "language_info": {
   "codemirror_mode": "r",
   "file_extension": ".r",
   "mimetype": "text/x-r-source",
   "name": "R",
   "pygments_lexer": "r",
   "version": "3.6.1"
  }
 },
 "nbformat": 4,
 "nbformat_minor": 4
}
